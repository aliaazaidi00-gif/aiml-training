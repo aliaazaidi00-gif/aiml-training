{
 "cells": [
  {
   "cell_type": "markdown",
   "id": "1b4b0bf9-abc1-4865-b70e-bc70ac94e452",
   "metadata": {},
   "source": [
    "# Jupyter First Notebook"
   ]
  },
  {
   "cell_type": "code",
   "execution_count": 1,
   "id": "e060ba89-4924-486a-824e-98839426b766",
   "metadata": {
    "scrolled": true
   },
   "outputs": [
    {
     "name": "stdout",
     "output_type": "stream",
     "text": [
      "Welcome to Jupyter notebook\n"
     ]
    }
   ],
   "source": [
    "print('Welcome to Jupyter notebook')"
   ]
  },
  {
   "cell_type": "code",
   "execution_count": 7,
   "id": "1f085816-8602-48b4-945e-6943f2f01ce2",
   "metadata": {},
   "outputs": [],
   "source": [
    "#We are going to write one collection of numbers\n",
    "numbers=(1,2,3,4,5,6)"
   ]
  },
  {
   "cell_type": "code",
   "execution_count": 10,
   "id": "dbb69668-fd68-4f74-8289-0b2c7a6dea23",
   "metadata": {},
   "outputs": [
    {
     "name": "stdout",
     "output_type": "stream",
     "text": [
      "1\n",
      "2\n",
      "3\n",
      "4\n",
      "5\n",
      "6\n",
      "8\n",
      "9\n"
     ]
    }
   ],
   "source": [
    "for num in numbers:\n",
    "    print(num)"
   ]
  },
  {
   "cell_type": "code",
   "execution_count": 9,
   "id": "44080b40-b411-4b48-9f11-d5f8093de5fb",
   "metadata": {},
   "outputs": [],
   "source": [
    "#We are going to write one collection of numbers\n",
    "numbers=(1,2,3,4,5,6,8,9)"
   ]
  },
  {
   "cell_type": "markdown",
   "id": "ff3c700a-ee44-4c1e-938a-4d1b988c1fa8",
   "metadata": {},
   "source": [
    "#End of Notebook"
   ]
  },
  {
   "cell_type": "code",
   "execution_count": null,
   "id": "9e16bdd5-9e89-4339-a25e-b6d055508f07",
   "metadata": {},
   "outputs": [],
   "source": []
  }
 ],
 "metadata": {
  "kernelspec": {
   "display_name": "Python [conda env:base] *",
   "language": "python",
   "name": "conda-base-py"
  },
  "language_info": {
   "codemirror_mode": {
    "name": "ipython",
    "version": 3
   },
   "file_extension": ".py",
   "mimetype": "text/x-python",
   "name": "python",
   "nbconvert_exporter": "python",
   "pygments_lexer": "ipython3",
   "version": "3.13.5"
  }
 },
 "nbformat": 4,
 "nbformat_minor": 5
}
