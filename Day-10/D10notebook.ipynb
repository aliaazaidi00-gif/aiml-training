{
 "cells": [
  {
   "cell_type": "markdown",
   "id": "1d24c762-a4bd-455b-b928-b77a2c6ae4ca",
   "metadata": {},
   "source": [
    "# First Note Book\n",
    "## Steps to Print a Single Line\n",
    "### we will create code cell\n",
    "### we will write print command\n",
    "### we will run the cell"
   ]
  },
  {
   "cell_type": "code",
   "execution_count": 2,
   "id": "ccbc9395-d914-4112-8461-d894b0fe6a78",
   "metadata": {},
   "outputs": [
    {
     "name": "stdout",
     "output_type": "stream",
     "text": [
      "Welcome to Python Note Book\n"
     ]
    }
   ],
   "source": [
    "print('Welcome to Python Note Book')"
   ]
  },
  {
   "cell_type": "markdown",
   "id": "68aa169c-c62d-4ce8-9c5e-edb5b241feee",
   "metadata": {},
   "source": [
    "# For Loop Example"
   ]
  },
  {
   "cell_type": "code",
   "execution_count": 4,
   "id": "1febb74a-34d5-4842-88c8-6c0049dec88d",
   "metadata": {},
   "outputs": [
    {
     "name": "stdout",
     "output_type": "stream",
     "text": [
      "1\t2\t3\t4\t5\t6\t7\t8\t9\t10\t11\t12\t13\t14\t15\t16\t17\t18\t19\t20\t21\t22\t23\t24\t25\t26\t27\t28\t29\t30\t31\t32\t33\t34\t35\t36\t37\t38\t39\t40\t41\t42\t43\t44\t45\t46\t47\t48\t49\t50\t51\t52\t53\t54\t55\t56\t57\t58\t59\t60\t61\t62\t63\t64\t65\t66\t67\t68\t69\t70\t71\t72\t73\t74\t75\t76\t77\t78\t79\t80\t81\t82\t83\t84\t85\t86\t87\t88\t89\t90\t91\t92\t93\t94\t95\t96\t97\t98\t99\t100\t"
     ]
    }
   ],
   "source": [
    "for num in range(1,101):\n",
    "    print(num,end=\"\\t\")"
   ]
  },
  {
   "cell_type": "code",
   "execution_count": 17,
   "id": "1ad0b458-192a-4574-a9f0-085523ea28e7",
   "metadata": {
    "scrolled": true
   },
   "outputs": [],
   "source": [
    "players=('Ronaldo','Mbappe','Neymar','Beckham','Messi','Alia')"
   ]
  },
  {
   "cell_type": "code",
   "execution_count": 18,
   "id": "a85af05e-b4be-4fdf-bd07-63f82cca5ada",
   "metadata": {
    "scrolled": true
   },
   "outputs": [
    {
     "name": "stdout",
     "output_type": "stream",
     "text": [
      "Ronaldo\n",
      "Mbappe\n",
      "Neymar\n",
      "Beckham\n",
      "Messi\n",
      "Alia\n"
     ]
    }
   ],
   "source": [
    "for player in players:\n",
    "    print(player)"
   ]
  },
  {
   "cell_type": "code",
   "execution_count": 21,
   "id": "87efbb39-fb7a-4b57-92d3-ef2d6b6bce3c",
   "metadata": {},
   "outputs": [
    {
     "name": "stdout",
     "output_type": "stream",
     "text": [
      "Welcome\n"
     ]
    }
   ],
   "source": [
    "print('Welcome')"
   ]
  },
  {
   "cell_type": "code",
   "execution_count": 19,
   "id": "2ea04292-89e6-499e-af33-2d14aa440a33",
   "metadata": {},
   "outputs": [
    {
     "name": "stdout",
     "output_type": "stream",
     "text": [
      "Welcome Again!!\n",
      "One More Thing\n"
     ]
    }
   ],
   "source": [
    "print('Welcome Again!!')\n",
    "print('One More Thing')"
   ]
  },
  {
   "cell_type": "code",
   "execution_count": null,
   "id": "dce9404a-7489-4986-9404-385fc50d156f",
   "metadata": {},
   "outputs": [],
   "source": []
  }
 ],
 "metadata": {
  "kernelspec": {
   "display_name": "Python [conda env:base] *",
   "language": "python",
   "name": "conda-base-py"
  },
  "language_info": {
   "codemirror_mode": {
    "name": "ipython",
    "version": 3
   },
   "file_extension": ".py",
   "mimetype": "text/x-python",
   "name": "python",
   "nbconvert_exporter": "python",
   "pygments_lexer": "ipython3",
   "version": "3.13.5"
  }
 },
 "nbformat": 4,
 "nbformat_minor": 5
}
