{
 "cells": [
  {
   "cell_type": "markdown",
   "id": "7bee8555-b750-4ab5-b857-864a112389bd",
   "metadata": {},
   "source": [
    "## Basic Panda Example to read out from an excel file"
   ]
  },
  {
   "cell_type": "code",
   "execution_count": 2,
   "id": "5b5ad949-9e37-4142-b5b8-81280b9d0c36",
   "metadata": {},
   "outputs": [],
   "source": [
    "import pandas as pd"
   ]
  },
  {
   "cell_type": "code",
   "execution_count": 3,
   "id": "43111385-f624-40ae-a15c-307abf468ff7",
   "metadata": {},
   "outputs": [],
   "source": [
    "df=pd.read_excel('students.xlsx')"
   ]
  },
  {
   "cell_type": "code",
   "execution_count": 4,
   "id": "7d1dcb88-4b73-4af3-8f2d-921f4efcb008",
   "metadata": {},
   "outputs": [
    {
     "name": "stdout",
     "output_type": "stream",
     "text": [
      "Printing Data Frame as follows\n"
     ]
    },
    {
     "data": {
      "text/html": [
       "<div>\n",
       "<style scoped>\n",
       "    .dataframe tbody tr th:only-of-type {\n",
       "        vertical-align: middle;\n",
       "    }\n",
       "\n",
       "    .dataframe tbody tr th {\n",
       "        vertical-align: top;\n",
       "    }\n",
       "\n",
       "    .dataframe thead th {\n",
       "        text-align: right;\n",
       "    }\n",
       "</style>\n",
       "<table border=\"1\" class=\"dataframe\">\n",
       "  <thead>\n",
       "    <tr style=\"text-align: right;\">\n",
       "      <th></th>\n",
       "      <th>Name</th>\n",
       "      <th>Age</th>\n",
       "      <th>Marks</th>\n",
       "    </tr>\n",
       "  </thead>\n",
       "  <tbody>\n",
       "    <tr>\n",
       "      <th>0</th>\n",
       "      <td>John</td>\n",
       "      <td>20</td>\n",
       "      <td>85</td>\n",
       "    </tr>\n",
       "    <tr>\n",
       "      <th>1</th>\n",
       "      <td>Alice</td>\n",
       "      <td>22</td>\n",
       "      <td>90</td>\n",
       "    </tr>\n",
       "    <tr>\n",
       "      <th>2</th>\n",
       "      <td>Bob</td>\n",
       "      <td>21</td>\n",
       "      <td>78</td>\n",
       "    </tr>\n",
       "    <tr>\n",
       "      <th>3</th>\n",
       "      <td>Sara</td>\n",
       "      <td>23</td>\n",
       "      <td>92</td>\n",
       "    </tr>\n",
       "  </tbody>\n",
       "</table>\n",
       "</div>"
      ],
      "text/plain": [
       "    Name  Age  Marks\n",
       "0   John   20     85\n",
       "1  Alice   22     90\n",
       "2    Bob   21     78\n",
       "3   Sara   23     92"
      ]
     },
     "execution_count": 4,
     "metadata": {},
     "output_type": "execute_result"
    }
   ],
   "source": [
    "print('Printing Data Frame as follows')\n",
    "df"
   ]
  },
  {
   "cell_type": "code",
   "execution_count": 5,
   "id": "f627eec9-321d-465a-86df-d030ab44c6bf",
   "metadata": {},
   "outputs": [],
   "source": [
    "dfpatients=pd.read_csv(\"C:/Users/User/Desktop/AIML-TRAINING/Day-10/patients.csv\")"
   ]
  },
  {
   "cell_type": "code",
   "execution_count": 6,
   "id": "264357a7-82da-42d3-9856-158f52a9aabf",
   "metadata": {},
   "outputs": [
    {
     "data": {
      "text/html": [
       "<div>\n",
       "<style scoped>\n",
       "    .dataframe tbody tr th:only-of-type {\n",
       "        vertical-align: middle;\n",
       "    }\n",
       "\n",
       "    .dataframe tbody tr th {\n",
       "        vertical-align: top;\n",
       "    }\n",
       "\n",
       "    .dataframe thead th {\n",
       "        text-align: right;\n",
       "    }\n",
       "</style>\n",
       "<table border=\"1\" class=\"dataframe\">\n",
       "  <thead>\n",
       "    <tr style=\"text-align: right;\">\n",
       "      <th></th>\n",
       "      <th>patient_id</th>\n",
       "      <th>name</th>\n",
       "      <th>age</th>\n",
       "      <th>arrival_date</th>\n",
       "      <th>departure_date</th>\n",
       "      <th>service</th>\n",
       "      <th>satisfaction</th>\n",
       "    </tr>\n",
       "  </thead>\n",
       "  <tbody>\n",
       "    <tr>\n",
       "      <th>0</th>\n",
       "      <td>PAT-09484753</td>\n",
       "      <td>Richard Rodriguez</td>\n",
       "      <td>24</td>\n",
       "      <td>16/3/2025</td>\n",
       "      <td>22/3/2025</td>\n",
       "      <td>surgery</td>\n",
       "      <td>61</td>\n",
       "    </tr>\n",
       "    <tr>\n",
       "      <th>1</th>\n",
       "      <td>PAT-f0644084</td>\n",
       "      <td>Shannon Walker</td>\n",
       "      <td>6</td>\n",
       "      <td>13/12/2025</td>\n",
       "      <td>14/12/2025</td>\n",
       "      <td>surgery</td>\n",
       "      <td>83</td>\n",
       "    </tr>\n",
       "    <tr>\n",
       "      <th>2</th>\n",
       "      <td>PAT-ac6162e4</td>\n",
       "      <td>Julia Torres</td>\n",
       "      <td>24</td>\n",
       "      <td>29/6/2025</td>\n",
       "      <td>5/7/2025</td>\n",
       "      <td>general_medicine</td>\n",
       "      <td>83</td>\n",
       "    </tr>\n",
       "    <tr>\n",
       "      <th>3</th>\n",
       "      <td>PAT-3dda2bb5</td>\n",
       "      <td>Crystal Johnson</td>\n",
       "      <td>32</td>\n",
       "      <td>12/10/2025</td>\n",
       "      <td>23/10/2025</td>\n",
       "      <td>emergency</td>\n",
       "      <td>81</td>\n",
       "    </tr>\n",
       "    <tr>\n",
       "      <th>4</th>\n",
       "      <td>PAT-08591375</td>\n",
       "      <td>Garrett Lin</td>\n",
       "      <td>25</td>\n",
       "      <td>18/2/2025</td>\n",
       "      <td>25/2/2025</td>\n",
       "      <td>ICU</td>\n",
       "      <td>76</td>\n",
       "    </tr>\n",
       "    <tr>\n",
       "      <th>...</th>\n",
       "      <td>...</td>\n",
       "      <td>...</td>\n",
       "      <td>...</td>\n",
       "      <td>...</td>\n",
       "      <td>...</td>\n",
       "      <td>...</td>\n",
       "      <td>...</td>\n",
       "    </tr>\n",
       "    <tr>\n",
       "      <th>995</th>\n",
       "      <td>PAT-a01bf534</td>\n",
       "      <td>Amber Vang</td>\n",
       "      <td>26</td>\n",
       "      <td>2/12/2025</td>\n",
       "      <td>4/12/2025</td>\n",
       "      <td>emergency</td>\n",
       "      <td>91</td>\n",
       "    </tr>\n",
       "    <tr>\n",
       "      <th>996</th>\n",
       "      <td>PAT-87fa07bd</td>\n",
       "      <td>Martha Smith</td>\n",
       "      <td>89</td>\n",
       "      <td>18/11/2025</td>\n",
       "      <td>30/11/2025</td>\n",
       "      <td>emergency</td>\n",
       "      <td>99</td>\n",
       "    </tr>\n",
       "    <tr>\n",
       "      <th>997</th>\n",
       "      <td>PAT-8f07e894</td>\n",
       "      <td>Jennifer James</td>\n",
       "      <td>72</td>\n",
       "      <td>12/12/2025</td>\n",
       "      <td>21/12/2025</td>\n",
       "      <td>ICU</td>\n",
       "      <td>69</td>\n",
       "    </tr>\n",
       "    <tr>\n",
       "      <th>998</th>\n",
       "      <td>PAT-4ae301e1</td>\n",
       "      <td>Kara Hernandez</td>\n",
       "      <td>47</td>\n",
       "      <td>8/2/2025</td>\n",
       "      <td>20/2/2025</td>\n",
       "      <td>ICU</td>\n",
       "      <td>61</td>\n",
       "    </tr>\n",
       "    <tr>\n",
       "      <th>999</th>\n",
       "      <td>PAT-e2ef9c5f</td>\n",
       "      <td>Lorraine Turner</td>\n",
       "      <td>64</td>\n",
       "      <td>4/5/2025</td>\n",
       "      <td>8/5/2025</td>\n",
       "      <td>general_medicine</td>\n",
       "      <td>83</td>\n",
       "    </tr>\n",
       "  </tbody>\n",
       "</table>\n",
       "<p>1000 rows × 7 columns</p>\n",
       "</div>"
      ],
      "text/plain": [
       "       patient_id               name  age arrival_date departure_date  \\\n",
       "0    PAT-09484753  Richard Rodriguez   24    16/3/2025      22/3/2025   \n",
       "1    PAT-f0644084     Shannon Walker    6   13/12/2025     14/12/2025   \n",
       "2    PAT-ac6162e4       Julia Torres   24    29/6/2025       5/7/2025   \n",
       "3    PAT-3dda2bb5    Crystal Johnson   32   12/10/2025     23/10/2025   \n",
       "4    PAT-08591375        Garrett Lin   25    18/2/2025      25/2/2025   \n",
       "..            ...                ...  ...          ...            ...   \n",
       "995  PAT-a01bf534         Amber Vang   26    2/12/2025      4/12/2025   \n",
       "996  PAT-87fa07bd       Martha Smith   89   18/11/2025     30/11/2025   \n",
       "997  PAT-8f07e894     Jennifer James   72   12/12/2025     21/12/2025   \n",
       "998  PAT-4ae301e1     Kara Hernandez   47     8/2/2025      20/2/2025   \n",
       "999  PAT-e2ef9c5f    Lorraine Turner   64     4/5/2025       8/5/2025   \n",
       "\n",
       "              service  satisfaction  \n",
       "0             surgery            61  \n",
       "1             surgery            83  \n",
       "2    general_medicine            83  \n",
       "3           emergency            81  \n",
       "4                 ICU            76  \n",
       "..                ...           ...  \n",
       "995         emergency            91  \n",
       "996         emergency            99  \n",
       "997               ICU            69  \n",
       "998               ICU            61  \n",
       "999  general_medicine            83  \n",
       "\n",
       "[1000 rows x 7 columns]"
      ]
     },
     "execution_count": 6,
     "metadata": {},
     "output_type": "execute_result"
    }
   ],
   "source": [
    "dfpatients"
   ]
  },
  {
   "cell_type": "code",
   "execution_count": 7,
   "id": "5808a767-5390-4af0-881f-4a833aa8ff02",
   "metadata": {},
   "outputs": [
    {
     "data": {
      "text/plain": [
       "0      Richard Rodriguez\n",
       "1         Shannon Walker\n",
       "2           Julia Torres\n",
       "3        Crystal Johnson\n",
       "4            Garrett Lin\n",
       "             ...        \n",
       "995           Amber Vang\n",
       "996         Martha Smith\n",
       "997       Jennifer James\n",
       "998       Kara Hernandez\n",
       "999      Lorraine Turner\n",
       "Name: name, Length: 1000, dtype: object"
      ]
     },
     "execution_count": 7,
     "metadata": {},
     "output_type": "execute_result"
    }
   ],
   "source": [
    "dfpatients['name']"
   ]
  },
  {
   "cell_type": "code",
   "execution_count": 8,
   "id": "e048e644-b91f-45aa-9d25-c286971e14b8",
   "metadata": {},
   "outputs": [
    {
     "name": "stdout",
     "output_type": "stream",
     "text": [
      "0      Richard Rodriguez\n",
      "1         Shannon Walker\n",
      "2           Julia Torres\n",
      "3        Crystal Johnson\n",
      "4            Garrett Lin\n",
      "             ...        \n",
      "995           Amber Vang\n",
      "996         Martha Smith\n",
      "997       Jennifer James\n",
      "998       Kara Hernandez\n",
      "999      Lorraine Turner\n",
      "Name: name, Length: 1000, dtype: object\n"
     ]
    }
   ],
   "source": [
    "print(dfpatients['name'])"
   ]
  },
  {
   "cell_type": "markdown",
   "id": "3df33d0e-d7eb-4443-9f0b-b5c075520160",
   "metadata": {},
   "source": [
    "## Head in dataframe"
   ]
  },
  {
   "cell_type": "code",
   "execution_count": 9,
   "id": "bdcfaf8f-af3b-4062-9bcf-1214b516af63",
   "metadata": {},
   "outputs": [
    {
     "data": {
      "text/html": [
       "<div>\n",
       "<style scoped>\n",
       "    .dataframe tbody tr th:only-of-type {\n",
       "        vertical-align: middle;\n",
       "    }\n",
       "\n",
       "    .dataframe tbody tr th {\n",
       "        vertical-align: top;\n",
       "    }\n",
       "\n",
       "    .dataframe thead th {\n",
       "        text-align: right;\n",
       "    }\n",
       "</style>\n",
       "<table border=\"1\" class=\"dataframe\">\n",
       "  <thead>\n",
       "    <tr style=\"text-align: right;\">\n",
       "      <th></th>\n",
       "      <th>Name</th>\n",
       "      <th>Age</th>\n",
       "      <th>Marks</th>\n",
       "    </tr>\n",
       "  </thead>\n",
       "  <tbody>\n",
       "    <tr>\n",
       "      <th>0</th>\n",
       "      <td>John</td>\n",
       "      <td>20</td>\n",
       "      <td>85</td>\n",
       "    </tr>\n",
       "    <tr>\n",
       "      <th>1</th>\n",
       "      <td>Alice</td>\n",
       "      <td>22</td>\n",
       "      <td>90</td>\n",
       "    </tr>\n",
       "    <tr>\n",
       "      <th>2</th>\n",
       "      <td>Bob</td>\n",
       "      <td>21</td>\n",
       "      <td>78</td>\n",
       "    </tr>\n",
       "    <tr>\n",
       "      <th>3</th>\n",
       "      <td>Sara</td>\n",
       "      <td>23</td>\n",
       "      <td>92</td>\n",
       "    </tr>\n",
       "  </tbody>\n",
       "</table>\n",
       "</div>"
      ],
      "text/plain": [
       "    Name  Age  Marks\n",
       "0   John   20     85\n",
       "1  Alice   22     90\n",
       "2    Bob   21     78\n",
       "3   Sara   23     92"
      ]
     },
     "execution_count": 9,
     "metadata": {},
     "output_type": "execute_result"
    }
   ],
   "source": [
    "df.head()"
   ]
  },
  {
   "cell_type": "code",
   "execution_count": 10,
   "id": "8162869e-0908-4038-ba69-be1dafd286e3",
   "metadata": {},
   "outputs": [
    {
     "data": {
      "text/html": [
       "<div>\n",
       "<style scoped>\n",
       "    .dataframe tbody tr th:only-of-type {\n",
       "        vertical-align: middle;\n",
       "    }\n",
       "\n",
       "    .dataframe tbody tr th {\n",
       "        vertical-align: top;\n",
       "    }\n",
       "\n",
       "    .dataframe thead th {\n",
       "        text-align: right;\n",
       "    }\n",
       "</style>\n",
       "<table border=\"1\" class=\"dataframe\">\n",
       "  <thead>\n",
       "    <tr style=\"text-align: right;\">\n",
       "      <th></th>\n",
       "      <th>patient_id</th>\n",
       "      <th>name</th>\n",
       "      <th>age</th>\n",
       "      <th>arrival_date</th>\n",
       "      <th>departure_date</th>\n",
       "      <th>service</th>\n",
       "      <th>satisfaction</th>\n",
       "    </tr>\n",
       "  </thead>\n",
       "  <tbody>\n",
       "    <tr>\n",
       "      <th>0</th>\n",
       "      <td>PAT-09484753</td>\n",
       "      <td>Richard Rodriguez</td>\n",
       "      <td>24</td>\n",
       "      <td>16/3/2025</td>\n",
       "      <td>22/3/2025</td>\n",
       "      <td>surgery</td>\n",
       "      <td>61</td>\n",
       "    </tr>\n",
       "    <tr>\n",
       "      <th>1</th>\n",
       "      <td>PAT-f0644084</td>\n",
       "      <td>Shannon Walker</td>\n",
       "      <td>6</td>\n",
       "      <td>13/12/2025</td>\n",
       "      <td>14/12/2025</td>\n",
       "      <td>surgery</td>\n",
       "      <td>83</td>\n",
       "    </tr>\n",
       "    <tr>\n",
       "      <th>2</th>\n",
       "      <td>PAT-ac6162e4</td>\n",
       "      <td>Julia Torres</td>\n",
       "      <td>24</td>\n",
       "      <td>29/6/2025</td>\n",
       "      <td>5/7/2025</td>\n",
       "      <td>general_medicine</td>\n",
       "      <td>83</td>\n",
       "    </tr>\n",
       "    <tr>\n",
       "      <th>3</th>\n",
       "      <td>PAT-3dda2bb5</td>\n",
       "      <td>Crystal Johnson</td>\n",
       "      <td>32</td>\n",
       "      <td>12/10/2025</td>\n",
       "      <td>23/10/2025</td>\n",
       "      <td>emergency</td>\n",
       "      <td>81</td>\n",
       "    </tr>\n",
       "    <tr>\n",
       "      <th>4</th>\n",
       "      <td>PAT-08591375</td>\n",
       "      <td>Garrett Lin</td>\n",
       "      <td>25</td>\n",
       "      <td>18/2/2025</td>\n",
       "      <td>25/2/2025</td>\n",
       "      <td>ICU</td>\n",
       "      <td>76</td>\n",
       "    </tr>\n",
       "  </tbody>\n",
       "</table>\n",
       "</div>"
      ],
      "text/plain": [
       "     patient_id               name  age arrival_date departure_date  \\\n",
       "0  PAT-09484753  Richard Rodriguez   24    16/3/2025      22/3/2025   \n",
       "1  PAT-f0644084     Shannon Walker    6   13/12/2025     14/12/2025   \n",
       "2  PAT-ac6162e4       Julia Torres   24    29/6/2025       5/7/2025   \n",
       "3  PAT-3dda2bb5    Crystal Johnson   32   12/10/2025     23/10/2025   \n",
       "4  PAT-08591375        Garrett Lin   25    18/2/2025      25/2/2025   \n",
       "\n",
       "            service  satisfaction  \n",
       "0           surgery            61  \n",
       "1           surgery            83  \n",
       "2  general_medicine            83  \n",
       "3         emergency            81  \n",
       "4               ICU            76  "
      ]
     },
     "execution_count": 10,
     "metadata": {},
     "output_type": "execute_result"
    }
   ],
   "source": [
    "dfpatients.head()"
   ]
  },
  {
   "cell_type": "code",
   "execution_count": 11,
   "id": "dec1a927-b431-4e5d-90ed-f19adc05f3b9",
   "metadata": {},
   "outputs": [
    {
     "data": {
      "text/html": [
       "<div>\n",
       "<style scoped>\n",
       "    .dataframe tbody tr th:only-of-type {\n",
       "        vertical-align: middle;\n",
       "    }\n",
       "\n",
       "    .dataframe tbody tr th {\n",
       "        vertical-align: top;\n",
       "    }\n",
       "\n",
       "    .dataframe thead th {\n",
       "        text-align: right;\n",
       "    }\n",
       "</style>\n",
       "<table border=\"1\" class=\"dataframe\">\n",
       "  <thead>\n",
       "    <tr style=\"text-align: right;\">\n",
       "      <th></th>\n",
       "      <th>patient_id</th>\n",
       "      <th>name</th>\n",
       "      <th>age</th>\n",
       "      <th>arrival_date</th>\n",
       "      <th>departure_date</th>\n",
       "      <th>service</th>\n",
       "      <th>satisfaction</th>\n",
       "    </tr>\n",
       "  </thead>\n",
       "  <tbody>\n",
       "    <tr>\n",
       "      <th>0</th>\n",
       "      <td>PAT-09484753</td>\n",
       "      <td>Richard Rodriguez</td>\n",
       "      <td>24</td>\n",
       "      <td>16/3/2025</td>\n",
       "      <td>22/3/2025</td>\n",
       "      <td>surgery</td>\n",
       "      <td>61</td>\n",
       "    </tr>\n",
       "    <tr>\n",
       "      <th>1</th>\n",
       "      <td>PAT-f0644084</td>\n",
       "      <td>Shannon Walker</td>\n",
       "      <td>6</td>\n",
       "      <td>13/12/2025</td>\n",
       "      <td>14/12/2025</td>\n",
       "      <td>surgery</td>\n",
       "      <td>83</td>\n",
       "    </tr>\n",
       "  </tbody>\n",
       "</table>\n",
       "</div>"
      ],
      "text/plain": [
       "     patient_id               name  age arrival_date departure_date  service  \\\n",
       "0  PAT-09484753  Richard Rodriguez   24    16/3/2025      22/3/2025  surgery   \n",
       "1  PAT-f0644084     Shannon Walker    6   13/12/2025     14/12/2025  surgery   \n",
       "\n",
       "   satisfaction  \n",
       "0            61  \n",
       "1            83  "
      ]
     },
     "execution_count": 11,
     "metadata": {},
     "output_type": "execute_result"
    }
   ],
   "source": [
    "dfpatients.head(2)"
   ]
  },
  {
   "cell_type": "markdown",
   "id": "39c07e02-798b-4d9f-85a6-ead02eb3fcd4",
   "metadata": {},
   "source": [
    "# Tail example"
   ]
  },
  {
   "cell_type": "code",
   "execution_count": 12,
   "id": "8744f875-f645-4856-85fb-d8769e421922",
   "metadata": {},
   "outputs": [
    {
     "name": "stdout",
     "output_type": "stream",
     "text": [
      "last two students in Excel sheet\n"
     ]
    },
    {
     "data": {
      "text/html": [
       "<div>\n",
       "<style scoped>\n",
       "    .dataframe tbody tr th:only-of-type {\n",
       "        vertical-align: middle;\n",
       "    }\n",
       "\n",
       "    .dataframe tbody tr th {\n",
       "        vertical-align: top;\n",
       "    }\n",
       "\n",
       "    .dataframe thead th {\n",
       "        text-align: right;\n",
       "    }\n",
       "</style>\n",
       "<table border=\"1\" class=\"dataframe\">\n",
       "  <thead>\n",
       "    <tr style=\"text-align: right;\">\n",
       "      <th></th>\n",
       "      <th>Name</th>\n",
       "      <th>Age</th>\n",
       "      <th>Marks</th>\n",
       "    </tr>\n",
       "  </thead>\n",
       "  <tbody>\n",
       "    <tr>\n",
       "      <th>2</th>\n",
       "      <td>Bob</td>\n",
       "      <td>21</td>\n",
       "      <td>78</td>\n",
       "    </tr>\n",
       "    <tr>\n",
       "      <th>3</th>\n",
       "      <td>Sara</td>\n",
       "      <td>23</td>\n",
       "      <td>92</td>\n",
       "    </tr>\n",
       "  </tbody>\n",
       "</table>\n",
       "</div>"
      ],
      "text/plain": [
       "   Name  Age  Marks\n",
       "2   Bob   21     78\n",
       "3  Sara   23     92"
      ]
     },
     "execution_count": 12,
     "metadata": {},
     "output_type": "execute_result"
    }
   ],
   "source": [
    "print('last two students in Excel sheet')\n",
    "df.tail(2)"
   ]
  },
  {
   "cell_type": "code",
   "execution_count": 13,
   "id": "255b4346-8720-4e1e-bce2-96a03a1f10a7",
   "metadata": {},
   "outputs": [
    {
     "data": {
      "text/html": [
       "<div>\n",
       "<style scoped>\n",
       "    .dataframe tbody tr th:only-of-type {\n",
       "        vertical-align: middle;\n",
       "    }\n",
       "\n",
       "    .dataframe tbody tr th {\n",
       "        vertical-align: top;\n",
       "    }\n",
       "\n",
       "    .dataframe thead th {\n",
       "        text-align: right;\n",
       "    }\n",
       "</style>\n",
       "<table border=\"1\" class=\"dataframe\">\n",
       "  <thead>\n",
       "    <tr style=\"text-align: right;\">\n",
       "      <th></th>\n",
       "      <th>patient_id</th>\n",
       "      <th>name</th>\n",
       "      <th>age</th>\n",
       "      <th>arrival_date</th>\n",
       "      <th>departure_date</th>\n",
       "      <th>service</th>\n",
       "      <th>satisfaction</th>\n",
       "    </tr>\n",
       "  </thead>\n",
       "  <tbody>\n",
       "    <tr>\n",
       "      <th>995</th>\n",
       "      <td>PAT-a01bf534</td>\n",
       "      <td>Amber Vang</td>\n",
       "      <td>26</td>\n",
       "      <td>2/12/2025</td>\n",
       "      <td>4/12/2025</td>\n",
       "      <td>emergency</td>\n",
       "      <td>91</td>\n",
       "    </tr>\n",
       "    <tr>\n",
       "      <th>996</th>\n",
       "      <td>PAT-87fa07bd</td>\n",
       "      <td>Martha Smith</td>\n",
       "      <td>89</td>\n",
       "      <td>18/11/2025</td>\n",
       "      <td>30/11/2025</td>\n",
       "      <td>emergency</td>\n",
       "      <td>99</td>\n",
       "    </tr>\n",
       "    <tr>\n",
       "      <th>997</th>\n",
       "      <td>PAT-8f07e894</td>\n",
       "      <td>Jennifer James</td>\n",
       "      <td>72</td>\n",
       "      <td>12/12/2025</td>\n",
       "      <td>21/12/2025</td>\n",
       "      <td>ICU</td>\n",
       "      <td>69</td>\n",
       "    </tr>\n",
       "    <tr>\n",
       "      <th>998</th>\n",
       "      <td>PAT-4ae301e1</td>\n",
       "      <td>Kara Hernandez</td>\n",
       "      <td>47</td>\n",
       "      <td>8/2/2025</td>\n",
       "      <td>20/2/2025</td>\n",
       "      <td>ICU</td>\n",
       "      <td>61</td>\n",
       "    </tr>\n",
       "    <tr>\n",
       "      <th>999</th>\n",
       "      <td>PAT-e2ef9c5f</td>\n",
       "      <td>Lorraine Turner</td>\n",
       "      <td>64</td>\n",
       "      <td>4/5/2025</td>\n",
       "      <td>8/5/2025</td>\n",
       "      <td>general_medicine</td>\n",
       "      <td>83</td>\n",
       "    </tr>\n",
       "  </tbody>\n",
       "</table>\n",
       "</div>"
      ],
      "text/plain": [
       "       patient_id             name  age arrival_date departure_date  \\\n",
       "995  PAT-a01bf534       Amber Vang   26    2/12/2025      4/12/2025   \n",
       "996  PAT-87fa07bd     Martha Smith   89   18/11/2025     30/11/2025   \n",
       "997  PAT-8f07e894   Jennifer James   72   12/12/2025     21/12/2025   \n",
       "998  PAT-4ae301e1   Kara Hernandez   47     8/2/2025      20/2/2025   \n",
       "999  PAT-e2ef9c5f  Lorraine Turner   64     4/5/2025       8/5/2025   \n",
       "\n",
       "              service  satisfaction  \n",
       "995         emergency            91  \n",
       "996         emergency            99  \n",
       "997               ICU            69  \n",
       "998               ICU            61  \n",
       "999  general_medicine            83  "
      ]
     },
     "execution_count": 13,
     "metadata": {},
     "output_type": "execute_result"
    }
   ],
   "source": [
    "dfpatients.tail(5)"
   ]
  },
  {
   "cell_type": "markdown",
   "id": "d0ff3045-625b-4ec5-9300-3d0a0f232744",
   "metadata": {},
   "source": [
    "## Shape example shape returns you (rows,columns)"
   ]
  },
  {
   "cell_type": "code",
   "execution_count": 15,
   "id": "8c4b3753-1afa-4429-bf6b-1b782f5f7bce",
   "metadata": {},
   "outputs": [
    {
     "data": {
      "text/plain": [
       "(1000, 7)"
      ]
     },
     "execution_count": 15,
     "metadata": {},
     "output_type": "execute_result"
    }
   ],
   "source": [
    "dfpatients.shape"
   ]
  },
  {
   "cell_type": "code",
   "execution_count": 16,
   "id": "b28840b6-d0e6-4595-8401-938c67e529f4",
   "metadata": {},
   "outputs": [
    {
     "data": {
      "text/plain": [
       "(4, 3)"
      ]
     },
     "execution_count": 16,
     "metadata": {},
     "output_type": "execute_result"
    }
   ],
   "source": [
    "df.shape"
   ]
  },
  {
   "cell_type": "code",
   "execution_count": 17,
   "id": "5c8b8163-3ea6-4a84-ba96-68d73015529c",
   "metadata": {},
   "outputs": [
    {
     "data": {
      "text/plain": [
       "(4, 3)"
      ]
     },
     "execution_count": 17,
     "metadata": {},
     "output_type": "execute_result"
    }
   ],
   "source": [
    "df.shape"
   ]
  },
  {
   "cell_type": "code",
   "execution_count": 20,
   "id": "78429ec4-78da-4b98-9430-0044705bee47",
   "metadata": {},
   "outputs": [
    {
     "name": "stdout",
     "output_type": "stream",
     "text": [
      "rows: 1000 columns: 7\n"
     ]
    }
   ],
   "source": [
    "    r,c=dfpatients.shape\n",
    "    print(f\"rows: {rows} columns: {cols}\")"
   ]
  },
  {
   "cell_type": "code",
   "execution_count": 21,
   "id": "0b3a9a4b-ab6e-4c0b-9182-3dfc3e17087d",
   "metadata": {},
   "outputs": [
    {
     "name": "stdout",
     "output_type": "stream",
     "text": [
      "rows and columns in students sheet\n",
      "rows: 1000 columns: 7\n"
     ]
    }
   ],
   "source": [
    "r,c=dfpatients.shape\n",
    "print('rows and columns in students sheet')\n",
    "print(f\"rows: {rows} columns: {cols}\")"
   ]
  },
  {
   "cell_type": "markdown",
   "id": "575a39c9-f2b8-4ed1-abfd-bbd82749a101",
   "metadata": {},
   "source": [
    "# Values: in dataframe"
   ]
  },
  {
   "cell_type": "code",
   "execution_count": 22,
   "id": "f84d6bbe-8beb-48df-9112-e8b615999041",
   "metadata": {},
   "outputs": [
    {
     "name": "stdout",
     "output_type": "stream",
     "text": [
      "student values\n"
     ]
    },
    {
     "data": {
      "text/plain": [
       "array([['John', 20, 85],\n",
       "       ['Alice', 22, 90],\n",
       "       ['Bob', 21, 78],\n",
       "       ['Sara', 23, 92]], dtype=object)"
      ]
     },
     "execution_count": 22,
     "metadata": {},
     "output_type": "execute_result"
    }
   ],
   "source": [
    "print('student values')\n",
    "df.values"
   ]
  },
  {
   "cell_type": "code",
   "execution_count": 27,
   "id": "4b03f475-28c3-4591-a6c1-4557f498270a",
   "metadata": {},
   "outputs": [
    {
     "name": "stdout",
     "output_type": "stream",
     "text": [
      "patients values\n"
     ]
    },
    {
     "data": {
      "text/plain": [
       "array([['PAT-09484753', 'Richard Rodriguez', 24, ..., '22/3/2025',\n",
       "        'surgery', 61],\n",
       "       ['PAT-f0644084', 'Shannon Walker', 6, ..., '14/12/2025',\n",
       "        'surgery', 83],\n",
       "       ['PAT-ac6162e4', 'Julia Torres', 24, ..., '5/7/2025',\n",
       "        'general_medicine', 83],\n",
       "       ...,\n",
       "       ['PAT-8f07e894', 'Jennifer James', 72, ..., '21/12/2025', 'ICU',\n",
       "        69],\n",
       "       ['PAT-4ae301e1', 'Kara Hernandez', 47, ..., '20/2/2025', 'ICU',\n",
       "        61],\n",
       "       ['PAT-e2ef9c5f', 'Lorraine Turner', 64, ..., '8/5/2025',\n",
       "        'general_medicine', 83]], dtype=object)"
      ]
     },
     "execution_count": 27,
     "metadata": {},
     "output_type": "execute_result"
    }
   ],
   "source": [
    "print('patients values')\n",
    "dfpatients.values"
   ]
  },
  {
   "cell_type": "code",
   "execution_count": null,
   "id": "de335c49-4146-4a95-8126-019ccddfa72d",
   "metadata": {},
   "outputs": [],
   "source": []
  }
 ],
 "metadata": {
  "kernelspec": {
   "display_name": "Python [conda env:base] *",
   "language": "python",
   "name": "conda-base-py"
  },
  "language_info": {
   "codemirror_mode": {
    "name": "ipython",
    "version": 3
   },
   "file_extension": ".py",
   "mimetype": "text/x-python",
   "name": "python",
   "nbconvert_exporter": "python",
   "pygments_lexer": "ipython3",
   "version": "3.13.5"
  }
 },
 "nbformat": 4,
 "nbformat_minor": 5
}
