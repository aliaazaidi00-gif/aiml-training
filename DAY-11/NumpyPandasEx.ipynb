{
 "cells": [
  {
   "cell_type": "code",
   "execution_count": 1,
   "id": "dc5dbf1e-099b-4982-a6f0-b6200916e4ad",
   "metadata": {},
   "outputs": [],
   "source": [
    "import pandas as pd\n",
    "import numpy as np"
   ]
  },
  {
   "cell_type": "code",
   "execution_count": 2,
   "id": "9fde13d9-e7da-455b-a952-4b167f07c9d6",
   "metadata": {},
   "outputs": [
    {
     "name": "stdout",
     "output_type": "stream",
     "text": [
      "    Name  Age  Marks\n",
      "0   John   20     85\n",
      "1  Alice   22     90\n",
      "2    Bob   21     78\n",
      "3   Sara   23     92\n"
     ]
    }
   ],
   "source": [
    "df=pd.read_excel('students.xlsx')\n",
    "print(df)"
   ]
  },
  {
   "cell_type": "code",
   "execution_count": 3,
   "id": "b2c449ff-6770-4d04-b5d4-da55409af1b0",
   "metadata": {},
   "outputs": [
    {
     "name": "stdout",
     "output_type": "stream",
     "text": [
      "Numpy Array of Marks\n",
      "[85 90 78 92]\n"
     ]
    }
   ],
   "source": [
    "marks=df['Marks'].to_numpy()\n",
    "print('Numpy Array of Marks')\n",
    "print(marks)"
   ]
  },
  {
   "cell_type": "code",
   "execution_count": 4,
   "id": "3999fb17-13e7-4996-b9ca-44746dbe809f",
   "metadata": {},
   "outputs": [
    {
     "name": "stdout",
     "output_type": "stream",
     "text": [
      "Highest Marks  92\n"
     ]
    }
   ],
   "source": [
    "print('Highest Marks ',np.max(marks))"
   ]
  },
  {
   "cell_type": "code",
   "execution_count": 5,
   "id": "7d206584-8c85-4dee-841d-9ec5138b497e",
   "metadata": {},
   "outputs": [
    {
     "name": "stdout",
     "output_type": "stream",
     "text": [
      "Lowest Marks  78\n"
     ]
    }
   ],
   "source": [
    "print('Lowest Marks ',np.min(marks))"
   ]
  },
  {
   "cell_type": "code",
   "execution_count": 6,
   "id": "6ebfeabd-ae6f-42dd-9b13-2e655097f997",
   "metadata": {},
   "outputs": [
    {
     "name": "stdout",
     "output_type": "stream",
     "text": [
      "Average Marks  86.25\n"
     ]
    }
   ],
   "source": [
    "print('Average Marks ',np.mean(marks))"
   ]
  },
  {
   "cell_type": "markdown",
   "id": "7900ed6e-cc0c-4a90-9caa-c03df7c1d175",
   "metadata": {},
   "source": [
    "# .loc: Label Based\n",
    "# .iloc: index Based"
   ]
  },
  {
   "cell_type": "code",
   "execution_count": 7,
   "id": "cc70fb0e-c3df-4372-b5d6-490080851669",
   "metadata": {},
   "outputs": [
    {
     "name": "stdout",
     "output_type": "stream",
     "text": [
      "original dataframe\n",
      "    Name  Age  Marks\n",
      "0   John   20     85\n",
      "1  Alice   22     90\n",
      "2    Bob   21     78\n",
      "3   Sara   23     92\n",
      "Location : Label Based\n",
      "Name     Bob\n",
      "Marks     78\n",
      "Name: 2, dtype: object\n"
     ]
    }
   ],
   "source": [
    "print('original dataframe')\n",
    "print(df)\n",
    "print('Location : Label Based')\n",
    "print(df.loc[2,['Name','Marks']])"
   ]
  },
  {
   "cell_type": "code",
   "execution_count": 8,
   "id": "3846e48a-3daa-48fb-8e77-1df9bc71314b",
   "metadata": {},
   "outputs": [
    {
     "name": "stdout",
     "output_type": "stream",
     "text": [
      "original dataframe\n",
      "    Name  Age  Marks\n",
      "0   John   20     85\n",
      "1  Alice   22     90\n",
      "2    Bob   21     78\n",
      "3   Sara   23     92\n",
      "Location : index Based\n",
      "Age      21\n",
      "Marks    78\n",
      "Name: 2, dtype: object\n"
     ]
    }
   ],
   "source": [
    "print('original dataframe')\n",
    "print(df)\n",
    "print('Location : index Based')\n",
    "print(df.iloc[2,[1,2]])"
   ]
  },
  {
   "cell_type": "markdown",
   "id": "c4e7d637-6874-49b2-94fb-5a0f30e61859",
   "metadata": {},
   "source": [
    "# Axis in Numpy :\n",
    "       1. Axis 0 : vertical direction: works column-wise\n",
    "       2. Axis 1 : horizontal direction: works row-wise\n",
    "# We have two students marks in 3 subjects\n",
    "    # [[45,50,49],[30,45,49]]"
   ]
  },
  {
   "cell_type": "code",
   "execution_count": 9,
   "id": "a80eb451-7366-4045-8d90-9b885ac2e8f5",
   "metadata": {},
   "outputs": [
    {
     "name": "stdout",
     "output_type": "stream",
     "text": [
      "[[ 5  2  9]\n",
      " [10 40 60]]\n"
     ]
    }
   ],
   "source": [
    "marks_arr=np.array([[5,2,9],[10,40,60]])\n",
    "print(marks_arr)"
   ]
  },
  {
   "cell_type": "code",
   "execution_count": 10,
   "id": "ea8d18df-8d8d-4eaf-8d84-8280c25a714f",
   "metadata": {},
   "outputs": [
    {
     "name": "stdout",
     "output_type": "stream",
     "text": [
      "Sum down each column [15 42 69]\n"
     ]
    }
   ],
   "source": [
    "print('Sum down each column',np.sum(marks_arr,axis=0))"
   ]
  },
  {
   "cell_type": "code",
   "execution_count": 11,
   "id": "fe6df075-dbc5-4503-9ee4-f070d0e81453",
   "metadata": {},
   "outputs": [
    {
     "name": "stdout",
     "output_type": "stream",
     "text": [
      "Sum down each row [ 16 110]\n"
     ]
    }
   ],
   "source": [
    "print('Sum down each row',np.sum(marks_arr,axis=1))"
   ]
  },
  {
   "cell_type": "code",
   "execution_count": 12,
   "id": "69bba566-fd21-417a-aead-05f4eca93345",
   "metadata": {},
   "outputs": [
    {
     "name": "stdout",
     "output_type": "stream",
     "text": [
      "Numpy Array of Marks\n",
      "[85 90 78 92]\n"
     ]
    }
   ],
   "source": [
    "print('Numpy Array of Marks')\n",
    "print(marks)"
   ]
  },
  {
   "cell_type": "code",
   "execution_count": 13,
   "id": "56246b9e-422f-4e55-b2b1-0382fc801139",
   "metadata": {},
   "outputs": [
    {
     "name": "stdout",
     "output_type": "stream",
     "text": [
      "    Name  Age  Marks\n",
      "0   John   20     85\n",
      "1  Alice   22     90\n",
      "2    Bob   21     78\n",
      "3   Sara   23     92\n"
     ]
    }
   ],
   "source": [
    "print(df)"
   ]
  },
  {
   "cell_type": "markdown",
   "id": "f5cda025-3158-486e-a79b-9dbce8016edf",
   "metadata": {},
   "source": [
    "# Find the Student Name who got highest marks"
   ]
  },
  {
   "cell_type": "code",
   "execution_count": 14,
   "id": "3cf0822a-1c80-4d11-ac33-76f785446769",
   "metadata": {},
   "outputs": [
    {
     "name": "stdout",
     "output_type": "stream",
     "text": [
      "Sara\n"
     ]
    }
   ],
   "source": [
    "topper=df.loc[df['Marks'].idxmax(),'Name']\n",
    "print(topper)"
   ]
  },
  {
   "cell_type": "code",
   "execution_count": 15,
   "id": "159d8388-12bb-40e3-9af7-9e47bdb265b3",
   "metadata": {},
   "outputs": [
    {
     "name": "stdout",
     "output_type": "stream",
     "text": [
      "Bob\n"
     ]
    }
   ],
   "source": [
    "lastinclass=df.loc[df['Marks'].idxmin(),'Name']\n",
    "print(lastinclass)"
   ]
  },
  {
   "cell_type": "code",
   "execution_count": 16,
   "id": "718b521c-000b-4317-8c3f-a124ee8b7f27",
   "metadata": {},
   "outputs": [
    {
     "name": "stdout",
     "output_type": "stream",
     "text": [
      "Next Example\n"
     ]
    }
   ],
   "source": [
    "print('Next Example')"
   ]
  },
  {
   "cell_type": "code",
   "execution_count": 17,
   "id": "7fd73f38-c135-4c9e-8447-9bb0350495bd",
   "metadata": {},
   "outputs": [
    {
     "name": "stdout",
     "output_type": "stream",
     "text": [
      "Topper of the Class is:  Sara\n"
     ]
    }
   ],
   "source": [
    "top_index = df['Marks'].idxmax()\n",
    "top_student=df.iloc[top_index,df.columns.get_loc('Name')]\n",
    "print('Topper of the Class is: ',top_student)"
   ]
  },
  {
   "cell_type": "code",
   "execution_count": null,
   "id": "d4e11c10-0fd2-444a-bf4c-b8e2d515a0f5",
   "metadata": {},
   "outputs": [],
   "source": []
  }
 ],
 "metadata": {
  "kernelspec": {
   "display_name": "Python [conda env:base] *",
   "language": "python",
   "name": "conda-base-py"
  },
  "language_info": {
   "codemirror_mode": {
    "name": "ipython",
    "version": 3
   },
   "file_extension": ".py",
   "mimetype": "text/x-python",
   "name": "python",
   "nbconvert_exporter": "python",
   "pygments_lexer": "ipython3",
   "version": "3.13.5"
  }
 },
 "nbformat": 4,
 "nbformat_minor": 5
}
