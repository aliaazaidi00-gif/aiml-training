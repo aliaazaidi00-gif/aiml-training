{
 "cells": [
  {
   "cell_type": "markdown",
   "id": "fd18b402-1148-40a8-8d4a-7752165e8e8a",
   "metadata": {},
   "source": [
    "# Numpy Introduction and usage\n",
    "## We will use numpy in this Jupyter Notebook"
   ]
  },
  {
   "cell_type": "markdown",
   "id": "8cfb6e60-70d2-405b-989c-36ad8ff1dfd2",
   "metadata": {},
   "source": [
    "# One Dimensional Array"
   ]
  },
  {
   "cell_type": "code",
   "execution_count": 1,
   "id": "729707f4-6bcc-4295-a24e-3b3e17cbc804",
   "metadata": {},
   "outputs": [],
   "source": [
    "import numpy as np"
   ]
  },
  {
   "cell_type": "code",
   "execution_count": 2,
   "id": "c1f17909-5cb7-4345-bc8e-adb8874041ba",
   "metadata": {},
   "outputs": [],
   "source": [
    "array1=np.array([10,20,30,40,50])"
   ]
  },
  {
   "cell_type": "code",
   "execution_count": 3,
   "id": "596d37a3-03d1-45f7-88fa-d2b224c1d704",
   "metadata": {},
   "outputs": [
    {
     "name": "stdout",
     "output_type": "stream",
     "text": [
      "[10 20 30 40 50]\n"
     ]
    }
   ],
   "source": [
    "print(array1)"
   ]
  },
  {
   "cell_type": "markdown",
   "id": "74339ebe-5d67-4e13-bc63-f279058fedb7",
   "metadata": {},
   "source": [
    "## Two Dimensional Array (2-D Array)"
   ]
  },
  {
   "cell_type": "code",
   "execution_count": 4,
   "id": "c0127518-a2c1-4124-a901-0367cb6e1b2e",
   "metadata": {},
   "outputs": [],
   "source": [
    "array_two=np.array([[10,20,30],[40,50,70]])"
   ]
  },
  {
   "cell_type": "code",
   "execution_count": 5,
   "id": "243b35e7-173a-4403-b33f-32e4007279f5",
   "metadata": {},
   "outputs": [
    {
     "name": "stdout",
     "output_type": "stream",
     "text": [
      "[[10 20 30]\n",
      " [40 50 70]]\n"
     ]
    }
   ],
   "source": [
    "print(array_two)"
   ]
  },
  {
   "cell_type": "markdown",
   "id": "701e3d90-f884-456f-a9df-ce6aa3a8af15",
   "metadata": {},
   "source": [
    "# Three Dimensional Array (3-D Array)"
   ]
  },
  {
   "cell_type": "code",
   "execution_count": 6,
   "id": "4f4dbcff-d515-4561-954c-6aecae5ad9fb",
   "metadata": {},
   "outputs": [],
   "source": [
    "array_three=np.array([[[10,20,30],[40,50,70]],[[10,20,30],[40,50,70]]])"
   ]
  },
  {
   "cell_type": "code",
   "execution_count": 7,
   "id": "dcc06368-e7a4-4190-a4e3-1189b29b189c",
   "metadata": {},
   "outputs": [
    {
     "name": "stdout",
     "output_type": "stream",
     "text": [
      "[[[10 20 30]\n",
      "  [40 50 70]]\n",
      "\n",
      " [[10 20 30]\n",
      "  [40 50 70]]]\n"
     ]
    }
   ],
   "source": [
    "print(array_three)"
   ]
  },
  {
   "cell_type": "markdown",
   "id": "d33cacae-e1d3-44a8-b8ce-d1c6b9c7b7a4",
   "metadata": {},
   "source": [
    "## Find out Dimension of Numpy array"
   ]
  },
  {
   "cell_type": "code",
   "execution_count": 8,
   "id": "c90530ff-3bf1-4f01-a8ae-8745b8c5170b",
   "metadata": {},
   "outputs": [
    {
     "name": "stdout",
     "output_type": "stream",
     "text": [
      "First array dimension: \t 1\n"
     ]
    }
   ],
   "source": [
    "print('First array dimension: \\t',array1.ndim)"
   ]
  },
  {
   "cell_type": "code",
   "execution_count": 9,
   "id": "32a205c4-0361-4973-b8e4-28c1a2490a2f",
   "metadata": {},
   "outputs": [
    {
     "name": "stdout",
     "output_type": "stream",
     "text": [
      "Second array dimension: \t 2\n"
     ]
    }
   ],
   "source": [
    "print('Second array dimension: \\t',array_two.ndim)"
   ]
  },
  {
   "cell_type": "code",
   "execution_count": 10,
   "id": "9ae75d8b-3cfb-40fc-8dfc-ee0bc45d0825",
   "metadata": {},
   "outputs": [
    {
     "name": "stdout",
     "output_type": "stream",
     "text": [
      "Third array dimension: \t 3\n"
     ]
    }
   ],
   "source": [
    "print('Third array dimension: \\t',array_three.ndim)"
   ]
  },
  {
   "cell_type": "markdown",
   "id": "1949706d-029f-4f10-bb1c-db221b0f4ad1",
   "metadata": {},
   "source": [
    "# Write an array of 5 students mark using Numpy\n",
    "    ## Marks are: 80,70,75,99,89 "
   ]
  },
  {
   "cell_type": "code",
   "execution_count": 11,
   "id": "6e62000c-2f42-4856-b577-74135b36f5c1",
   "metadata": {},
   "outputs": [
    {
     "name": "stdout",
     "output_type": "stream",
     "text": [
      "Array of Marks\n",
      "[80 70 75 99 89]\n"
     ]
    }
   ],
   "source": [
    "array_marks=np.array([80,70,75,99,89])\n",
    "print('Array of Marks')\n",
    "print (array_marks)"
   ]
  },
  {
   "cell_type": "markdown",
   "id": "397a6e2f-64ee-45cd-9537-d9da560493b5",
   "metadata": {},
   "source": [
    "# Write an array: to take marks of 5 students in 3 subjects using Numpy\n",
    "## Math, English, Chemistry\n",
    "### [[50,45,49],[40,42,45],[35,40,46],[39,40,45],[48,40,40]]"
   ]
  },
  {
   "cell_type": "code",
   "execution_count": 12,
   "id": "0fec6834-4128-4e26-acfc-1a6ed4aac868",
   "metadata": {},
   "outputs": [
    {
     "name": "stdout",
     "output_type": "stream",
     "text": [
      "2D Array Example\n",
      "[[50 45 49]\n",
      " [40 42 45]\n",
      " [35 40 46]\n",
      " [39 40 45]\n",
      " [48 40 40]]\n"
     ]
    }
   ],
   "source": [
    "marks_subject=np.array([[50,45,49],[40,42,45],[35,40,46],[39,40,45],[48,40,40]])\n",
    "print('2D Array Example')\n",
    "print(marks_subject)"
   ]
  },
  {
   "cell_type": "markdown",
   "id": "a1ec6454-6a89-4daf-bb62-3d9e89c75da9",
   "metadata": {},
   "source": [
    "## Write an array: to take marks of 4 students in 3 subjects for two semester using Numpy\n",
    "     ## Students Name are: 'Alia','Syahmi','Mimi','Aya'\n",
    "     ## Math, English, Chemistry\n",
    "     ## Two semester: Sem1, Sem2\n",
    "     ## 4*3*2\n",
    "     ## [[85, 88],[78, 82],[90, 95]], [[76, 70],[78, 82],[90, 90]],[[80, 86],[78, 82],[90, 95]],[[85, 88],[78, 82],[70, 90]]"
   ]
  },
  {
   "cell_type": "code",
   "execution_count": 22,
   "id": "6b567176-29e3-4863-a1a8-4bc3e50ef393",
   "metadata": {},
   "outputs": [],
   "source": [
    "marks_subject_sem=np.array([\n",
    "    [[85, 88],[78, 82],[90, 95]], \n",
    "    [[76, 70],[78, 82],[90, 90]],\n",
    "    [[80, 86],[78, 82],[90, 95]],\n",
    "    [[85, 88],[78, 82],[70, 90]]\n",
    "])"
   ]
  },
  {
   "cell_type": "code",
   "execution_count": 23,
   "id": "ff1e9579-83d2-4769-9446-2b32e8da60cb",
   "metadata": {},
   "outputs": [
    {
     "name": "stdout",
     "output_type": "stream",
     "text": [
      "[[[85 88]\n",
      "  [78 82]\n",
      "  [90 95]]\n",
      "\n",
      " [[76 70]\n",
      "  [78 82]\n",
      "  [90 90]]\n",
      "\n",
      " [[80 86]\n",
      "  [78 82]\n",
      "  [90 95]]\n",
      "\n",
      " [[85 88]\n",
      "  [78 82]\n",
      "  [70 90]]]\n"
     ]
    }
   ],
   "source": [
    "print (marks_subject_sem)"
   ]
  },
  {
   "cell_type": "markdown",
   "id": "7c620e2d-f33f-4500-8c28-ddfd676a4882",
   "metadata": {},
   "source": [
    "# Write an array: to take wheater of 2 cities in 3 sdays for three times in a day morning, noon, evening\n",
    "     ## Cities name are: Kuala Lumpur, Delhi\n",
    "     ## Saturday, Sunday, Monday\n",
    "     ## Three time slot: Morning, Noon, Evening\n",
    "     ## Kuala Lumpur: [[25,30,28],[24,28,25],[30,32,30]]\n",
    "     ## Delhi: [[30,35,30],[32,34,30],[28,31,30]]\n",
    "     ## [[[25,30,28],[24,28,25],[30,32,30]], [[30,35,30],[32,34,30],[28,31,30]]]\n",
    "# Create one 3-D array for this using Numpy and print it"
   ]
  },
  {
   "cell_type": "code",
   "execution_count": 28,
   "id": "99001bed-a01c-40ba-bbab-4f0e156e6bd7",
   "metadata": {},
   "outputs": [],
   "source": [
    "wheather_array=np.array([[[25,30,28],[24,28,25],[30,32,30]], [[30,35,30],[32,34,30],[28,31,30]]])"
   ]
  },
  {
   "cell_type": "code",
   "execution_count": 29,
   "id": "b90041bd-b081-4ce9-b0b5-09c9eb2805c1",
   "metadata": {},
   "outputs": [
    {
     "name": "stdout",
     "output_type": "stream",
     "text": [
      "[[[25 30 28]\n",
      "  [24 28 25]\n",
      "  [30 32 30]]\n",
      "\n",
      " [[30 35 30]\n",
      "  [32 34 30]\n",
      "  [28 31 30]]]\n"
     ]
    }
   ],
   "source": [
    "print(wheather_array)"
   ]
  },
  {
   "cell_type": "markdown",
   "id": "c057e04c-fa59-4330-b8ff-a66a91496d71",
   "metadata": {},
   "source": [
    "# Basic Information\n",
    "    ## shape: rows and columns\n",
    "    ## size: number of elements\n",
    "    ## dimension: return dimension 1,2,3...\n",
    "    ## data type: return stored data values type"
   ]
  },
  {
   "cell_type": "code",
   "execution_count": 26,
   "id": "5a41b3c1-56da-4eb4-af56-564294e558a6",
   "metadata": {},
   "outputs": [
    {
     "name": "stdout",
     "output_type": "stream",
     "text": [
      "[10 20 30 40 50]\n"
     ]
    }
   ],
   "source": [
    "print(array1)"
   ]
  },
  {
   "cell_type": "code",
   "execution_count": 27,
   "id": "2986c5b9-b6a0-4ace-ae3f-b4625cd75e35",
   "metadata": {},
   "outputs": [
    {
     "name": "stdout",
     "output_type": "stream",
     "text": [
      "Shape of array1: (5,)\n"
     ]
    }
   ],
   "source": [
    "print('Shape of array1:',array1.shape)"
   ]
  },
  {
   "cell_type": "code",
   "execution_count": 30,
   "id": "12c5a3ef-0fcf-4f6f-b14a-d9b643463c33",
   "metadata": {},
   "outputs": [
    {
     "name": "stdout",
     "output_type": "stream",
     "text": [
      "size of array1: 5\n"
     ]
    }
   ],
   "source": [
    "print('size of array1:',array1.size)"
   ]
  },
  {
   "cell_type": "code",
   "execution_count": 31,
   "id": "5a6c7b32-aa0d-4de9-9587-216effff23a4",
   "metadata": {},
   "outputs": [
    {
     "name": "stdout",
     "output_type": "stream",
     "text": [
      "Dimension:  1\n"
     ]
    }
   ],
   "source": [
    "print('Dimension: ',array1.ndim)"
   ]
  },
  {
   "cell_type": "code",
   "execution_count": 32,
   "id": "87f7f113-7fc2-4b67-988c-a30815e5044a",
   "metadata": {},
   "outputs": [
    {
     "name": "stdout",
     "output_type": "stream",
     "text": [
      "Data Type:  int64\n"
     ]
    }
   ],
   "source": [
    "print('Data Type: ',array1.dtype)"
   ]
  },
  {
   "cell_type": "code",
   "execution_count": 38,
   "id": "c87d634a-27d2-46de-9b70-7e043bcf8b6f",
   "metadata": {},
   "outputs": [],
   "source": [
    "students=np.array(['Alia bt Zaidi','Syahmi','Ami','Yaya'])"
   ]
  },
  {
   "cell_type": "code",
   "execution_count": 34,
   "id": "770104ef-df1f-4537-acb1-8c57adfb5947",
   "metadata": {},
   "outputs": [
    {
     "name": "stdout",
     "output_type": "stream",
     "text": [
      "['Alia' 'Syahmi' 'Ami' 'Yaya']\n"
     ]
    }
   ],
   "source": [
    "print(students)"
   ]
  },
  {
   "cell_type": "code",
   "execution_count": 35,
   "id": "02b3d5fc-eb5a-4cfc-bdb2-4ed56c8e2fbf",
   "metadata": {},
   "outputs": [
    {
     "name": "stdout",
     "output_type": "stream",
     "text": [
      "Shape of array: (4,)\n"
     ]
    }
   ],
   "source": [
    "print('Shape of array:',students.shape)"
   ]
  },
  {
   "cell_type": "code",
   "execution_count": 36,
   "id": "9dda54da-0ffd-44a1-bd39-481ce9941a70",
   "metadata": {},
   "outputs": [
    {
     "name": "stdout",
     "output_type": "stream",
     "text": [
      "Number of students: 4\n"
     ]
    }
   ],
   "source": [
    "print('Number of students:',students.size)"
   ]
  },
  {
   "cell_type": "code",
   "execution_count": 39,
   "id": "36fffff8-feb7-4cb0-83ad-b436f461d1d9",
   "metadata": {},
   "outputs": [
    {
     "name": "stdout",
     "output_type": "stream",
     "text": [
      "Data Type:  <U13\n"
     ]
    }
   ],
   "source": [
    "print('Data Type: ',students.dtype)"
   ]
  },
  {
   "cell_type": "markdown",
   "id": "a52f1ac3-6a7f-48e3-9ab7-970a7cb27d0b",
   "metadata": {},
   "source": [
    "# Mathematical Operation"
   ]
  },
  {
   "cell_type": "code",
   "execution_count": 40,
   "id": "c8289694-8779-47cb-9c37-afa08b9ee2a1",
   "metadata": {},
   "outputs": [
    {
     "name": "stdout",
     "output_type": "stream",
     "text": [
      "[10 20 30 40 50]\n"
     ]
    }
   ],
   "source": [
    "print(array1)"
   ]
  },
  {
   "cell_type": "code",
   "execution_count": 41,
   "id": "a25f0243-96d5-4d72-bb02-7d0f785c705b",
   "metadata": {},
   "outputs": [],
   "source": [
    "total=np.sum(array1)"
   ]
  },
  {
   "cell_type": "code",
   "execution_count": 42,
   "id": "7b3068b7-aac2-454b-ace5-77cdf5be0c87",
   "metadata": {},
   "outputs": [
    {
     "name": "stdout",
     "output_type": "stream",
     "text": [
      "150\n"
     ]
    }
   ],
   "source": [
    "print(total)"
   ]
  },
  {
   "cell_type": "code",
   "execution_count": 44,
   "id": "83bb7e2a-4af2-452f-80da-750d7401aac9",
   "metadata": {},
   "outputs": [
    {
     "name": "stdout",
     "output_type": "stream",
     "text": [
      "Mean:  30.0\n"
     ]
    }
   ],
   "source": [
    "print('Mean: ',np.mean(array1))"
   ]
  },
  {
   "cell_type": "code",
   "execution_count": 45,
   "id": "5511fae2-02d3-4f7c-8b4a-07b931e66ec7",
   "metadata": {},
   "outputs": [
    {
     "name": "stdout",
     "output_type": "stream",
     "text": [
      "Max:  50\n"
     ]
    }
   ],
   "source": [
    "print('Max: ',np.max(array1))"
   ]
  },
  {
   "cell_type": "code",
   "execution_count": 46,
   "id": "d7b8c55b-e6b8-4f4c-95f7-ec65ebca71bc",
   "metadata": {},
   "outputs": [
    {
     "name": "stdout",
     "output_type": "stream",
     "text": [
      "index of min: 0\n"
     ]
    }
   ],
   "source": [
    "print('index of min:',np.argmin(array1))"
   ]
  },
  {
   "cell_type": "code",
   "execution_count": 47,
   "id": "60a84292-6660-4249-8a04-8d24237be2ab",
   "metadata": {},
   "outputs": [
    {
     "name": "stdout",
     "output_type": "stream",
     "text": [
      "index of max: 4\n"
     ]
    }
   ],
   "source": [
    "print('index of max:',np.argmax(array1))"
   ]
  },
  {
   "cell_type": "code",
   "execution_count": 52,
   "id": "51988112-8bb3-41e9-a3fd-5e656b37178d",
   "metadata": {},
   "outputs": [],
   "source": [
    "our_arr=np.array([100,200,300,7000,400,500,300,1900,600])"
   ]
  },
  {
   "cell_type": "code",
   "execution_count": 53,
   "id": "a65713f9-72ac-4d9b-9055-e1e14585c08f",
   "metadata": {},
   "outputs": [
    {
     "name": "stdout",
     "output_type": "stream",
     "text": [
      "[ 100  200  300 7000  400  500  300 1900  600]\n"
     ]
    }
   ],
   "source": [
    "print(our_arr)"
   ]
  },
  {
   "cell_type": "markdown",
   "id": "a886caf9-224b-44c3-9dc4-895d10d8ab55",
   "metadata": {},
   "source": [
    "# Searching and sorting example in 1-D array"
   ]
  },
  {
   "cell_type": "code",
   "execution_count": 54,
   "id": "08a55b7d-b8af-46fd-9fb7-22064095a9f9",
   "metadata": {},
   "outputs": [
    {
     "name": "stdout",
     "output_type": "stream",
     "text": [
      "***Sorted array\n",
      "[ 100  200  300  300  400  500  600 1900 7000]\n"
     ]
    }
   ],
   "source": [
    "sorted_arr=np.sort(our_arr)\n",
    "print('***Sorted array')\n",
    "print(sorted_arr)"
   ]
  },
  {
   "cell_type": "code",
   "execution_count": 55,
   "id": "4190c41a-2489-4d03-a91c-6b3c32af4091",
   "metadata": {},
   "outputs": [
    {
     "name": "stdout",
     "output_type": "stream",
     "text": [
      "Is there any item greater than 500 ?:  True\n"
     ]
    }
   ],
   "source": [
    "print('Is there any item greater than 500 ?: ',np.any(sorted_arr>500))"
   ]
  },
  {
   "cell_type": "code",
   "execution_count": 56,
   "id": "f800afb9-336f-4e17-93e3-637b05111dc5",
   "metadata": {},
   "outputs": [
    {
     "name": "stdout",
     "output_type": "stream",
     "text": [
      "All greater than 500 ?:  False\n"
     ]
    }
   ],
   "source": [
    "print('All greater than 500 ?: ',np.all(sorted_arr>500))"
   ]
  },
  {
   "cell_type": "code",
   "execution_count": 57,
   "id": "0c152fc6-b359-4ae6-b9b3-b89a149ca7ac",
   "metadata": {},
   "outputs": [
    {
     "name": "stdout",
     "output_type": "stream",
     "text": [
      "All greater than 99 ?:  True\n"
     ]
    }
   ],
   "source": [
    "print('All greater than 99 ?: ',np.all(sorted_arr>99))"
   ]
  },
  {
   "cell_type": "code",
   "execution_count": 58,
   "id": "1e10d1fc-8470-4555-a0f9-09fab36d47b3",
   "metadata": {},
   "outputs": [
    {
     "name": "stdout",
     "output_type": "stream",
     "text": [
      "Where values >500 (array([6, 7, 8]),)\n"
     ]
    }
   ],
   "source": [
    "print('Where values >500',np.where(sorted_arr>500))"
   ]
  },
  {
   "cell_type": "code",
   "execution_count": 59,
   "id": "9d450e0e-dd73-482f-9e26-3ef218ef7150",
   "metadata": {},
   "outputs": [
    {
     "name": "stdout",
     "output_type": "stream",
     "text": [
      "All Number greater than 500\n",
      "[6 7 8]\n"
     ]
    }
   ],
   "source": [
    "print('All Number greater than 500')\n",
    "for num in np.where(sorted_arr>500):\n",
    "    print (num)"
   ]
  },
  {
   "cell_type": "code",
   "execution_count": 61,
   "id": "04361c04-1552-4802-9a9e-de46a39f3411",
   "metadata": {},
   "outputs": [
    {
     "name": "stdout",
     "output_type": "stream",
     "text": [
      "[ 100  200  300 7000  400  500  300 1900  600]\n"
     ]
    }
   ],
   "source": [
    "print(our_arr)"
   ]
  },
  {
   "cell_type": "code",
   "execution_count": 63,
   "id": "02029143-137a-4cd4-bfba-05b7db82031b",
   "metadata": {},
   "outputs": [
    {
     "name": "stdout",
     "output_type": "stream",
     "text": [
      "100\n"
     ]
    }
   ],
   "source": [
    "print(np.min(our_arr))"
   ]
  },
  {
   "cell_type": "code",
   "execution_count": 64,
   "id": "e385bedf-e41b-4845-a45f-2d70eb8aef1b",
   "metadata": {},
   "outputs": [
    {
     "name": "stdout",
     "output_type": "stream",
     "text": [
      "Index of Min:  0\n"
     ]
    }
   ],
   "source": [
    "print('Index of Min: ',np.argmin(our_arr))"
   ]
  },
  {
   "cell_type": "code",
   "execution_count": 65,
   "id": "880929ce-a628-4399-8ecb-3c22cd838644",
   "metadata": {},
   "outputs": [
    {
     "name": "stdout",
     "output_type": "stream",
     "text": [
      "Index of Max 8\n"
     ]
    }
   ],
   "source": [
    "print('Index of Max',np.argmax(sorted_arr))"
   ]
  },
  {
   "cell_type": "code",
   "execution_count": 66,
   "id": "40580cfc-dba5-42fc-a942-d7cc08be8c29",
   "metadata": {},
   "outputs": [
    {
     "name": "stdout",
     "output_type": "stream",
     "text": [
      "All Number greater than 500\n",
      "False\n",
      "False\n",
      "False\n",
      "False\n",
      "False\n",
      "False\n",
      "True\n",
      "True\n",
      "True\n"
     ]
    }
   ],
   "source": [
    "print('All Number greater than 500')\n",
    "for num in sorted_arr>500:\n",
    "    print (num)"
   ]
  },
  {
   "cell_type": "code",
   "execution_count": 67,
   "id": "4a57e197-5376-4833-a5f5-cdfa863a467e",
   "metadata": {},
   "outputs": [],
   "source": [
    "selected_values=sorted_arr[sorted_arr>500]"
   ]
  },
  {
   "cell_type": "code",
   "execution_count": 68,
   "id": "191b63f0-22b5-4249-8b10-22912f13df35",
   "metadata": {},
   "outputs": [
    {
     "name": "stdout",
     "output_type": "stream",
     "text": [
      "[ 600 1900 7000]\n"
     ]
    }
   ],
   "source": [
    "print(selected_values)"
   ]
  },
  {
   "cell_type": "code",
   "execution_count": 69,
   "id": "36f2942e-8719-4970-9f08-6afc41839591",
   "metadata": {},
   "outputs": [
    {
     "name": "stdout",
     "output_type": "stream",
     "text": [
      "600\n",
      "1900\n",
      "7000\n"
     ]
    }
   ],
   "source": [
    "for num in selected_values:\n",
    "    print (num)"
   ]
  },
  {
   "cell_type": "code",
   "execution_count": 70,
   "id": "e3d7fab8-65aa-471f-b5f6-9038c5cffacd",
   "metadata": {},
   "outputs": [
    {
     "name": "stdout",
     "output_type": "stream",
     "text": [
      "600\n",
      "1900\n",
      "7000\n"
     ]
    }
   ],
   "source": [
    "for num in sorted_arr[sorted_arr>500]:\n",
    "    print(num)"
   ]
  },
  {
   "cell_type": "code",
   "execution_count": 71,
   "id": "367ac03f-67dd-4d87-b8f6-2ca2659a1766",
   "metadata": {},
   "outputs": [
    {
     "name": "stdout",
     "output_type": "stream",
     "text": [
      "  [ 600 1900 7000]\n"
     ]
    }
   ],
   "source": [
    "print(' ',sorted_arr[sorted_arr>500])"
   ]
  },
  {
   "cell_type": "markdown",
   "id": "87c690a1-6b78-4d35-b7dc-d87624e378c6",
   "metadata": {},
   "source": [
    "# Slicing 1 D Array\n",
    " ## 1. To take elements from starting index to end index\n",
    " ## 2. e.g. [start:end]"
   ]
  },
  {
   "cell_type": "code",
   "execution_count": 72,
   "id": "bdc20287-5711-450b-876f-d10c8cf0321d",
   "metadata": {},
   "outputs": [
    {
     "name": "stdout",
     "output_type": "stream",
     "text": [
      "[ 100  200  300  300  400  500  600 1900 7000]\n"
     ]
    }
   ],
   "source": [
    "print(sorted_arr)"
   ]
  },
  {
   "cell_type": "code",
   "execution_count": 73,
   "id": "3ebf9b93-003e-42e3-a9ba-f3adb0d60c05",
   "metadata": {},
   "outputs": [
    {
     "name": "stdout",
     "output_type": "stream",
     "text": [
      "[200 300]\n"
     ]
    }
   ],
   "source": [
    "slice_sorted_arr=sorted_arr[1:3]\n",
    "print(slice_sorted_arr)"
   ]
  },
  {
   "cell_type": "markdown",
   "id": "4db5ab43-92d9-4079-be32-a853858021ff",
   "metadata": {},
   "source": [
    "# starting from an index and going till last"
   ]
  },
  {
   "cell_type": "code",
   "execution_count": 75,
   "id": "01070f59-efb7-41f4-8a8d-8ba327af8c39",
   "metadata": {},
   "outputs": [
    {
     "name": "stdout",
     "output_type": "stream",
     "text": [
      "[ 300  400  500  600 1900 7000]\n"
     ]
    }
   ],
   "source": [
    "print(sorted_arr[3:])"
   ]
  },
  {
   "cell_type": "code",
   "execution_count": 76,
   "id": "1fd06e1d-52c4-4346-a4b5-3adfc0929058",
   "metadata": {},
   "outputs": [
    {
     "name": "stdout",
     "output_type": "stream",
     "text": [
      "[100 200 300 300]\n"
     ]
    }
   ],
   "source": [
    "print(sorted_arr[:4])"
   ]
  },
  {
   "cell_type": "code",
   "execution_count": 77,
   "id": "2f155896-02f7-4942-8d60-8468384b5484",
   "metadata": {},
   "outputs": [
    {
     "name": "stdout",
     "output_type": "stream",
     "text": [
      "[100 200 300 300 400]\n"
     ]
    }
   ],
   "source": [
    "print(sorted_arr[:5])"
   ]
  },
  {
   "cell_type": "markdown",
   "id": "c625d687-df0c-4cbf-ab65-991ddc2f6cf5",
   "metadata": {},
   "source": [
    "# step\n",
    "    ## [start:end:step]\n",
    "    ## step: every step element"
   ]
  },
  {
   "cell_type": "code",
   "execution_count": 78,
   "id": "c60add01-24bf-424f-8f04-141e6805117d",
   "metadata": {},
   "outputs": [
    {
     "name": "stdout",
     "output_type": "stream",
     "text": [
      "[200 300 500]\n"
     ]
    }
   ],
   "source": [
    "our_slice=sorted_arr[1:6:2]\n",
    "print(our_slice)"
   ]
  },
  {
   "cell_type": "code",
   "execution_count": 79,
   "id": "4a6a3c47-a5ef-4f13-b3d0-4336011672ca",
   "metadata": {},
   "outputs": [
    {
     "name": "stdout",
     "output_type": "stream",
     "text": [
      "Original Array\n",
      "[ 100  200  300  300  400  500  600 1900 7000]\n",
      "Every Third Element\n",
      "[100 300 600]\n"
     ]
    }
   ],
   "source": [
    "print('Original Array')\n",
    "print(sorted_arr)\n",
    "print('Every Third Element')\n",
    "every_third_element=sorted_arr[::3]\n",
    "print(every_third_element)"
   ]
  },
  {
   "cell_type": "markdown",
   "id": "a3d46127-9ae9-492f-b5a9-24e0f461edda",
   "metadata": {},
   "source": [
    "# Slice Reverse"
   ]
  },
  {
   "cell_type": "code",
   "execution_count": 80,
   "id": "4d9923a9-7dcf-4b9c-a917-45b91c0bc1af",
   "metadata": {},
   "outputs": [
    {
     "name": "stdout",
     "output_type": "stream",
     "text": [
      "Original Array\n",
      "[ 100  200  300  300  400  500  600 1900 7000]\n",
      "Revers Array: \n",
      "[7000 1900  600  500  400  300  300  200  100]\n"
     ]
    }
   ],
   "source": [
    "print('Original Array')\n",
    "print(sorted_arr)\n",
    "print('Revers Array: ')\n",
    "print(sorted_arr[::-1])"
   ]
  },
  {
   "cell_type": "code",
   "execution_count": 81,
   "id": "ecd6e7ef-00b5-4c26-a3c2-dead716f0e92",
   "metadata": {},
   "outputs": [
    {
     "name": "stdout",
     "output_type": "stream",
     "text": [
      "Last five elements\n",
      "[ 400  500  600 1900 7000]\n"
     ]
    }
   ],
   "source": [
    "print('Last five elements')\n",
    "print(sorted_arr[-5:])"
   ]
  },
  {
   "cell_type": "code",
   "execution_count": 82,
   "id": "afc50591-7eb9-4725-a514-b8987f8aa2d2",
   "metadata": {},
   "outputs": [
    {
     "name": "stdout",
     "output_type": "stream",
     "text": [
      "Slicing Done\n"
     ]
    }
   ],
   "source": [
    "print('Slicing Done')"
   ]
  },
  {
   "cell_type": "code",
   "execution_count": null,
   "id": "e2c17094-bde3-47b4-96b2-e55307e3fd62",
   "metadata": {},
   "outputs": [],
   "source": []
  }
 ],
 "metadata": {
  "kernelspec": {
   "display_name": "Python [conda env:base] *",
   "language": "python",
   "name": "conda-base-py"
  },
  "language_info": {
   "codemirror_mode": {
    "name": "ipython",
    "version": 3
   },
   "file_extension": ".py",
   "mimetype": "text/x-python",
   "name": "python",
   "nbconvert_exporter": "python",
   "pygments_lexer": "ipython3",
   "version": "3.13.5"
  }
 },
 "nbformat": 4,
 "nbformat_minor": 5
}
