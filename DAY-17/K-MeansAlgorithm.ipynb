{
 "cells": [
  {
   "cell_type": "markdown",
   "id": "6c5fccee-1554-43bc-a7cb-947b256d8703",
   "metadata": {},
   "source": [
    "# K-Means Clustering Example\n",
    "    - a way to automatically group similar data into K clusters.\n",
    "    - K-Means comes under unsupervised machine learning techniques.\n",
    "    - Terms we will use here like cluster.\n",
    "    - Centroid.\n",
    "    - Cluster: we will partition our dataset into K dsitinct cluster.\n",
    "    - Centroid: nearest mean cluster."
   ]
  },
  {
   "cell_type": "code",
   "execution_count": 1,
   "id": "4978c63a-3780-453a-a41f-af71a746cd5b",
   "metadata": {},
   "outputs": [],
   "source": [
    "import numpy as np\n",
    "import pandas as pd\n",
    "import matplotlib.pyplot as plt\n",
    "from sklearn.cluster import KMeans"
   ]
  },
  {
   "cell_type": "code",
   "execution_count": 2,
   "id": "8c5b55d2-2502-47f6-9d5e-1c3bd36bbe21",
   "metadata": {},
   "outputs": [
    {
     "data": {
      "text/html": [
       "<div>\n",
       "<style scoped>\n",
       "    .dataframe tbody tr th:only-of-type {\n",
       "        vertical-align: middle;\n",
       "    }\n",
       "\n",
       "    .dataframe tbody tr th {\n",
       "        vertical-align: top;\n",
       "    }\n",
       "\n",
       "    .dataframe thead th {\n",
       "        text-align: right;\n",
       "    }\n",
       "</style>\n",
       "<table border=\"1\" class=\"dataframe\">\n",
       "  <thead>\n",
       "    <tr style=\"text-align: right;\">\n",
       "      <th></th>\n",
       "      <th>EntryTime</th>\n",
       "      <th>Duration</th>\n",
       "    </tr>\n",
       "  </thead>\n",
       "  <tbody>\n",
       "    <tr>\n",
       "      <th>0</th>\n",
       "      <td>7.5</td>\n",
       "      <td>8.0</td>\n",
       "    </tr>\n",
       "    <tr>\n",
       "      <th>1</th>\n",
       "      <td>9.0</td>\n",
       "      <td>7.0</td>\n",
       "    </tr>\n",
       "    <tr>\n",
       "      <th>2</th>\n",
       "      <td>10.5</td>\n",
       "      <td>6.5</td>\n",
       "    </tr>\n",
       "    <tr>\n",
       "      <th>3</th>\n",
       "      <td>6.0</td>\n",
       "      <td>9.0</td>\n",
       "    </tr>\n",
       "    <tr>\n",
       "      <th>4</th>\n",
       "      <td>13.0</td>\n",
       "      <td>5.5</td>\n",
       "    </tr>\n",
       "    <tr>\n",
       "      <th>5</th>\n",
       "      <td>8.0</td>\n",
       "      <td>8.5</td>\n",
       "    </tr>\n",
       "    <tr>\n",
       "      <th>6</th>\n",
       "      <td>14.0</td>\n",
       "      <td>4.5</td>\n",
       "    </tr>\n",
       "    <tr>\n",
       "      <th>7</th>\n",
       "      <td>9.5</td>\n",
       "      <td>7.0</td>\n",
       "    </tr>\n",
       "    <tr>\n",
       "      <th>8</th>\n",
       "      <td>7.0</td>\n",
       "      <td>9.0</td>\n",
       "    </tr>\n",
       "    <tr>\n",
       "      <th>9</th>\n",
       "      <td>12.0</td>\n",
       "      <td>6.0</td>\n",
       "    </tr>\n",
       "  </tbody>\n",
       "</table>\n",
       "</div>"
      ],
      "text/plain": [
       "   EntryTime  Duration\n",
       "0        7.5       8.0\n",
       "1        9.0       7.0\n",
       "2       10.5       6.5\n",
       "3        6.0       9.0\n",
       "4       13.0       5.5\n",
       "5        8.0       8.5\n",
       "6       14.0       4.5\n",
       "7        9.5       7.0\n",
       "8        7.0       9.0\n",
       "9       12.0       6.0"
      ]
     },
     "execution_count": 2,
     "metadata": {},
     "output_type": "execute_result"
    }
   ],
   "source": [
    "X = np.array([\n",
    "    [7.5, 8.0],\n",
    "    [9.0, 7.0],\n",
    "    [10.5, 6.5],\n",
    "    [6.0, 9.0],\n",
    "    [13.0, 5.5],\n",
    "    [8.0, 8.5],\n",
    "    [14.0, 4.5],\n",
    "    [9.5, 7.0],\n",
    "    [7.0, 9.0],\n",
    "    [12.0, 6.0]\n",
    "])\n",
    "df=pd.DataFrame(X,columns=['EntryTime', 'Duration'])\n",
    "df"
   ]
  },
  {
   "cell_type": "code",
   "execution_count": 4,
   "id": "75e9a02b-07db-48c7-b9f0-0435b483f1d8",
   "metadata": {},
   "outputs": [],
   "source": [
    "# create model\n",
    "model=KMeans(n_clusters=3, random_state=0)"
   ]
  },
  {
   "cell_type": "code",
   "execution_count": 6,
   "id": "62edbfd7-d6a7-4d8a-ae76-000487866eb3",
   "metadata": {},
   "outputs": [
    {
     "name": "stderr",
     "output_type": "stream",
     "text": [
      "C:\\Users\\User\\anaconda3\\Lib\\site-packages\\sklearn\\cluster\\_kmeans.py:1419: UserWarning: KMeans is known to have a memory leak on Windows with MKL, when there are less chunks than available threads. You can avoid it by setting the environment variable OMP_NUM_THREADS=1.\n",
      "  warnings.warn(\n"
     ]
    },
    {
     "data": {
      "text/html": [
       "<div>\n",
       "<style scoped>\n",
       "    .dataframe tbody tr th:only-of-type {\n",
       "        vertical-align: middle;\n",
       "    }\n",
       "\n",
       "    .dataframe tbody tr th {\n",
       "        vertical-align: top;\n",
       "    }\n",
       "\n",
       "    .dataframe thead th {\n",
       "        text-align: right;\n",
       "    }\n",
       "</style>\n",
       "<table border=\"1\" class=\"dataframe\">\n",
       "  <thead>\n",
       "    <tr style=\"text-align: right;\">\n",
       "      <th></th>\n",
       "      <th>EntryTime</th>\n",
       "      <th>Duration</th>\n",
       "      <th>Cluster</th>\n",
       "    </tr>\n",
       "  </thead>\n",
       "  <tbody>\n",
       "    <tr>\n",
       "      <th>0</th>\n",
       "      <td>7.5</td>\n",
       "      <td>8.0</td>\n",
       "      <td>0</td>\n",
       "    </tr>\n",
       "    <tr>\n",
       "      <th>1</th>\n",
       "      <td>9.0</td>\n",
       "      <td>7.0</td>\n",
       "      <td>2</td>\n",
       "    </tr>\n",
       "    <tr>\n",
       "      <th>2</th>\n",
       "      <td>10.5</td>\n",
       "      <td>6.5</td>\n",
       "      <td>2</td>\n",
       "    </tr>\n",
       "    <tr>\n",
       "      <th>3</th>\n",
       "      <td>6.0</td>\n",
       "      <td>9.0</td>\n",
       "      <td>0</td>\n",
       "    </tr>\n",
       "    <tr>\n",
       "      <th>4</th>\n",
       "      <td>13.0</td>\n",
       "      <td>5.5</td>\n",
       "      <td>1</td>\n",
       "    </tr>\n",
       "    <tr>\n",
       "      <th>5</th>\n",
       "      <td>8.0</td>\n",
       "      <td>8.5</td>\n",
       "      <td>0</td>\n",
       "    </tr>\n",
       "    <tr>\n",
       "      <th>6</th>\n",
       "      <td>14.0</td>\n",
       "      <td>4.5</td>\n",
       "      <td>1</td>\n",
       "    </tr>\n",
       "    <tr>\n",
       "      <th>7</th>\n",
       "      <td>9.5</td>\n",
       "      <td>7.0</td>\n",
       "      <td>2</td>\n",
       "    </tr>\n",
       "    <tr>\n",
       "      <th>8</th>\n",
       "      <td>7.0</td>\n",
       "      <td>9.0</td>\n",
       "      <td>0</td>\n",
       "    </tr>\n",
       "    <tr>\n",
       "      <th>9</th>\n",
       "      <td>12.0</td>\n",
       "      <td>6.0</td>\n",
       "      <td>1</td>\n",
       "    </tr>\n",
       "  </tbody>\n",
       "</table>\n",
       "</div>"
      ],
      "text/plain": [
       "   EntryTime  Duration  Cluster\n",
       "0        7.5       8.0        0\n",
       "1        9.0       7.0        2\n",
       "2       10.5       6.5        2\n",
       "3        6.0       9.0        0\n",
       "4       13.0       5.5        1\n",
       "5        8.0       8.5        0\n",
       "6       14.0       4.5        1\n",
       "7        9.5       7.0        2\n",
       "8        7.0       9.0        0\n",
       "9       12.0       6.0        1"
      ]
     },
     "execution_count": 6,
     "metadata": {},
     "output_type": "execute_result"
    }
   ],
   "source": [
    "df['Cluster']=model.fit_predict(df[['EntryTime','Duration']])\n",
    "centers=model.cluster_centers_\n",
    "df"
   ]
  },
  {
   "cell_type": "code",
   "execution_count": 11,
   "id": "ec008e4e-36e2-4b43-8f87-9e15775fceef",
   "metadata": {},
   "outputs": [
    {
     "data": {
      "image/png": "[encoded data removed]",
      "text/plain": [
       "<Figure size 600x500 with 1 Axes>"
      ]
     },
     "metadata": {},
     "output_type": "display_data"
    }
   ],
   "source": [
    "plt.figure(figsize=(6,5))\n",
    "plt.scatter(df['EntryTime'], df['Duration'], c=df['Cluster'], s=100)\n",
    "plt.scatter(centers[:,0], centers[:,1], marker='X', s=200, c='red', label='Centroid')\n",
    "plt.xlabel('Entry Time (Hour of Day)')\n",
    "plt.ylabel('Duration in Office (Hours)')\n",
    "plt.title('Working Hour Patterns using K-Means')\n",
    "plt.legend()\n",
    "plt.grid(True)\n",
    "plt.show()"
   ]
  },
  {
   "cell_type": "markdown",
   "id": "ca37e9e3-6639-4faf-81c0-cf387fb46075",
   "metadata": {},
   "source": [
    "# Lab: Customer Segmentation using K-Means\n",
    "## Goal: Group customers by Annual Income and Spending Score.\n",
    "    -Download customer.csv from https://github.com/salman1256/aimltraining/tree/main/Day-17(II)\n",
    "    -Load data from customers.csv\n",
    "    -Visualize the data\n",
    "    -Cluster\n",
    "    -Interpret each segment like 'High income / high spender' etc.\n",
    "    -Create Scatter plot for the same"
   ]
  },
  {
   "cell_type": "code",
   "execution_count": 66,
   "id": "88d9e640-1733-4743-a9c0-bc3134409d52",
   "metadata": {},
   "outputs": [
    {
     "data": {
      "text/html": [
       "<div>\n",
       "<style scoped>\n",
       "    .dataframe tbody tr th:only-of-type {\n",
       "        vertical-align: middle;\n",
       "    }\n",
       "\n",
       "    .dataframe tbody tr th {\n",
       "        vertical-align: top;\n",
       "    }\n",
       "\n",
       "    .dataframe thead th {\n",
       "        text-align: right;\n",
       "    }\n",
       "</style>\n",
       "<table border=\"1\" class=\"dataframe\">\n",
       "  <thead>\n",
       "    <tr style=\"text-align: right;\">\n",
       "      <th></th>\n",
       "      <th>CustomerID</th>\n",
       "      <th>AnnualIncome</th>\n",
       "      <th>SpendingScore</th>\n",
       "    </tr>\n",
       "  </thead>\n",
       "  <tbody>\n",
       "    <tr>\n",
       "      <th>0</th>\n",
       "      <td>1</td>\n",
       "      <td>15</td>\n",
       "      <td>79</td>\n",
       "    </tr>\n",
       "    <tr>\n",
       "      <th>1</th>\n",
       "      <td>2</td>\n",
       "      <td>16</td>\n",
       "      <td>81</td>\n",
       "    </tr>\n",
       "    <tr>\n",
       "      <th>2</th>\n",
       "      <td>3</td>\n",
       "      <td>17</td>\n",
       "      <td>76</td>\n",
       "    </tr>\n",
       "    <tr>\n",
       "      <th>3</th>\n",
       "      <td>4</td>\n",
       "      <td>18</td>\n",
       "      <td>75</td>\n",
       "    </tr>\n",
       "    <tr>\n",
       "      <th>4</th>\n",
       "      <td>5</td>\n",
       "      <td>19</td>\n",
       "      <td>73</td>\n",
       "    </tr>\n",
       "  </tbody>\n",
       "</table>\n",
       "</div>"
      ],
      "text/plain": [
       "   CustomerID  AnnualIncome  SpendingScore\n",
       "0           1            15             79\n",
       "1           2            16             81\n",
       "2           3            17             76\n",
       "3           4            18             75\n",
       "4           5            19             73"
      ]
     },
     "execution_count": 66,
     "metadata": {},
     "output_type": "execute_result"
    }
   ],
   "source": [
    "customers = pd.read_csv('customers.csv')\n",
    "customers.head()"
   ]
  },
  {
   "cell_type": "code",
   "execution_count": 67,
   "id": "87fa4999-b1e5-4654-ba3e-f8dff211a6f4",
   "metadata": {},
   "outputs": [],
   "source": [
    "customers=df"
   ]
  },
  {
   "cell_type": "code",
   "execution_count": 63,
   "id": "d0b39930-1272-461a-b1d4-4396142264cf",
   "metadata": {},
   "outputs": [],
   "source": [
    "model=KMeans(n_clusters=5, random_state=0)"
   ]
  },
  {
   "cell_type": "code",
   "execution_count": 78,
   "id": "449e01d6-03ad-413f-bf70-e463c3f5891d",
   "metadata": {},
   "outputs": [
    {
     "name": "stdout",
     "output_type": "stream",
     "text": [
      "0\n"
     ]
    },
    {
     "name": "stderr",
     "output_type": "stream",
     "text": [
      "C:\\Users\\User\\anaconda3\\Lib\\site-packages\\sklearn\\cluster\\_kmeans.py:1419: UserWarning: KMeans is known to have a memory leak on Windows with MKL, when there are less chunks than available threads. You can avoid it by setting the environment variable OMP_NUM_THREADS=1.\n",
      "  warnings.warn(\n"
     ]
    }
   ],
   "source": [
    "X = customers[['AnnualIncome', 'SpendingScore']]\n",
    "kmeans = KMeans(n_clusters=5, random_state=0)\n",
    "labels = kmeans.fit_predict(X)\n",
    "customers['Cluster'] = labels\n",
    "centers = kmeans.cluster_centers_\n",
    "customers.head()\n",
    "new_cust=pd.DataFrame({'AnnualIncome':[2],'SpendingScore':[30]})\n",
    "new_label=kmeans.predict(new_cust)[0]\n",
    "print(new_label)"
   ]
  },
  {
   "cell_type": "code",
   "execution_count": 77,
   "id": "0805e962-6e99-4952-8422-fb72a7ca91be",
   "metadata": {},
   "outputs": [
    {
     "data": {
      "image/png": "[encoded data removed]",
      "text/plain": [
       "<Figure size 600x500 with 1 Axes>"
      ]
     },
     "metadata": {},
     "output_type": "display_data"
    }
   ],
   "source": [
    "plt.figure(figsize=(6,5))\n",
    "plt.scatter(customers['AnnualIncome'], customers['SpendingScore'], c=customers['Cluster'], s=100)\n",
    "plt.scatter(centers[:,0], centers[:,1], marker='X', s=100, c='red', label='Centroid')\n",
    "plt.xlabel('Annual Income (MYR)')\n",
    "plt.ylabel('Spending Score (1-100)')\n",
    "plt.title('Customers Segment(K-Means)')\n",
    "plt.grid(True)\n",
    "plt.show()"
   ]
  },
  {
   "cell_type": "code",
   "execution_count": null,
   "id": "5c2825c4-55fb-474f-ac54-ecd70ca874e6",
   "metadata": {},
   "outputs": [],
   "source": []
  }
 ],
 "metadata": {
  "kernelspec": {
   "display_name": "Python [conda env:base] *",
   "language": "python",
   "name": "conda-base-py"
  },
  "language_info": {
   "codemirror_mode": {
    "name": "ipython",
    "version": 3
   },
   "file_extension": ".py",
   "mimetype": "text/x-python",
   "name": "python",
   "nbconvert_exporter": "python",
   "pygments_lexer": "ipython3",
   "version": "3.13.5"
  }
 },
 "nbformat": 4,
 "nbformat_minor": 5
}
